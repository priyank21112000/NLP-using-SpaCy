{
  "nbformat": 4,
  "nbformat_minor": 0,
  "metadata": {
    "colab": {
      "provenance": [],
      "authorship_tag": "ABX9TyOt6LT+r7tqJgDmUmK4tb1H",
      "include_colab_link": true
    },
    "kernelspec": {
      "name": "python3",
      "display_name": "Python 3"
    },
    "language_info": {
      "name": "python"
    }
  },
  "cells": [
    {
      "cell_type": "markdown",
      "metadata": {
        "id": "view-in-github",
        "colab_type": "text"
      },
      "source": [
        "<a href=\"https://colab.research.google.com/github/priyank21112000/NLP-using-SpaCy/blob/main/NLP_using_SpaCy_1.ipynb\" target=\"_parent\"><img src=\"https://colab.research.google.com/assets/colab-badge.svg\" alt=\"Open In Colab\"/></a>"
      ]
    },
    {
      "cell_type": "code",
      "execution_count": 1,
      "metadata": {
        "colab": {
          "base_uri": "https://localhost:8080/"
        },
        "id": "_Ti1pXbe-ts2",
        "outputId": "3366d493-af06-4f15-ca55-ea56a15a0e65"
      },
      "outputs": [
        {
          "output_type": "stream",
          "name": "stdout",
          "text": [
            "Requirement already satisfied: spacy in /usr/local/lib/python3.10/dist-packages (3.5.4)\n",
            "Requirement already satisfied: spacy-legacy<3.1.0,>=3.0.11 in /usr/local/lib/python3.10/dist-packages (from spacy) (3.0.12)\n",
            "Requirement already satisfied: spacy-loggers<2.0.0,>=1.0.0 in /usr/local/lib/python3.10/dist-packages (from spacy) (1.0.4)\n",
            "Requirement already satisfied: murmurhash<1.1.0,>=0.28.0 in /usr/local/lib/python3.10/dist-packages (from spacy) (1.0.9)\n",
            "Requirement already satisfied: cymem<2.1.0,>=2.0.2 in /usr/local/lib/python3.10/dist-packages (from spacy) (2.0.7)\n",
            "Requirement already satisfied: preshed<3.1.0,>=3.0.2 in /usr/local/lib/python3.10/dist-packages (from spacy) (3.0.8)\n",
            "Requirement already satisfied: thinc<8.2.0,>=8.1.8 in /usr/local/lib/python3.10/dist-packages (from spacy) (8.1.10)\n",
            "Requirement already satisfied: wasabi<1.2.0,>=0.9.1 in /usr/local/lib/python3.10/dist-packages (from spacy) (1.1.2)\n",
            "Requirement already satisfied: srsly<3.0.0,>=2.4.3 in /usr/local/lib/python3.10/dist-packages (from spacy) (2.4.7)\n",
            "Requirement already satisfied: catalogue<2.1.0,>=2.0.6 in /usr/local/lib/python3.10/dist-packages (from spacy) (2.0.8)\n",
            "Requirement already satisfied: typer<0.10.0,>=0.3.0 in /usr/local/lib/python3.10/dist-packages (from spacy) (0.9.0)\n",
            "Requirement already satisfied: pathy>=0.10.0 in /usr/local/lib/python3.10/dist-packages (from spacy) (0.10.2)\n",
            "Requirement already satisfied: smart-open<7.0.0,>=5.2.1 in /usr/local/lib/python3.10/dist-packages (from spacy) (6.3.0)\n",
            "Requirement already satisfied: tqdm<5.0.0,>=4.38.0 in /usr/local/lib/python3.10/dist-packages (from spacy) (4.65.0)\n",
            "Requirement already satisfied: numpy>=1.15.0 in /usr/local/lib/python3.10/dist-packages (from spacy) (1.22.4)\n",
            "Requirement already satisfied: requests<3.0.0,>=2.13.0 in /usr/local/lib/python3.10/dist-packages (from spacy) (2.27.1)\n",
            "Requirement already satisfied: pydantic!=1.8,!=1.8.1,<1.11.0,>=1.7.4 in /usr/local/lib/python3.10/dist-packages (from spacy) (1.10.11)\n",
            "Requirement already satisfied: jinja2 in /usr/local/lib/python3.10/dist-packages (from spacy) (3.1.2)\n",
            "Requirement already satisfied: setuptools in /usr/local/lib/python3.10/dist-packages (from spacy) (67.7.2)\n",
            "Requirement already satisfied: packaging>=20.0 in /usr/local/lib/python3.10/dist-packages (from spacy) (23.1)\n",
            "Requirement already satisfied: langcodes<4.0.0,>=3.2.0 in /usr/local/lib/python3.10/dist-packages (from spacy) (3.3.0)\n",
            "Requirement already satisfied: typing-extensions>=4.2.0 in /usr/local/lib/python3.10/dist-packages (from pydantic!=1.8,!=1.8.1,<1.11.0,>=1.7.4->spacy) (4.7.1)\n",
            "Requirement already satisfied: urllib3<1.27,>=1.21.1 in /usr/local/lib/python3.10/dist-packages (from requests<3.0.0,>=2.13.0->spacy) (1.26.16)\n",
            "Requirement already satisfied: certifi>=2017.4.17 in /usr/local/lib/python3.10/dist-packages (from requests<3.0.0,>=2.13.0->spacy) (2023.5.7)\n",
            "Requirement already satisfied: charset-normalizer~=2.0.0 in /usr/local/lib/python3.10/dist-packages (from requests<3.0.0,>=2.13.0->spacy) (2.0.12)\n",
            "Requirement already satisfied: idna<4,>=2.5 in /usr/local/lib/python3.10/dist-packages (from requests<3.0.0,>=2.13.0->spacy) (3.4)\n",
            "Requirement already satisfied: blis<0.8.0,>=0.7.8 in /usr/local/lib/python3.10/dist-packages (from thinc<8.2.0,>=8.1.8->spacy) (0.7.9)\n",
            "Requirement already satisfied: confection<1.0.0,>=0.0.1 in /usr/local/lib/python3.10/dist-packages (from thinc<8.2.0,>=8.1.8->spacy) (0.1.0)\n",
            "Requirement already satisfied: click<9.0.0,>=7.1.1 in /usr/local/lib/python3.10/dist-packages (from typer<0.10.0,>=0.3.0->spacy) (8.1.6)\n",
            "Requirement already satisfied: MarkupSafe>=2.0 in /usr/local/lib/python3.10/dist-packages (from jinja2->spacy) (2.1.3)\n"
          ]
        }
      ],
      "source": [
        "!pip install spacy"
      ]
    },
    {
      "cell_type": "code",
      "source": [
        "! python -m spacy download en_core_web_sm"
      ],
      "metadata": {
        "colab": {
          "base_uri": "https://localhost:8080/"
        },
        "id": "SM8Y0Gd--3Vo",
        "outputId": "8e5b40ca-2733-4d0b-f451-27680897b9ea"
      },
      "execution_count": 2,
      "outputs": [
        {
          "output_type": "stream",
          "name": "stdout",
          "text": [
            "2023-07-24 18:01:12.973272: I tensorflow/core/platform/cpu_feature_guard.cc:182] This TensorFlow binary is optimized to use available CPU instructions in performance-critical operations.\n",
            "To enable the following instructions: AVX2 FMA, in other operations, rebuild TensorFlow with the appropriate compiler flags.\n",
            "2023-07-24 18:01:14.472733: W tensorflow/compiler/tf2tensorrt/utils/py_utils.cc:38] TF-TRT Warning: Could not find TensorRT\n",
            "Collecting en-core-web-sm==3.5.0\n",
            "  Downloading https://github.com/explosion/spacy-models/releases/download/en_core_web_sm-3.5.0/en_core_web_sm-3.5.0-py3-none-any.whl (12.8 MB)\n",
            "\u001b[2K     \u001b[90m━━━━━━━━━━━━━━━━━━━━━━━━━━━━━━━━━━━━━━━━\u001b[0m \u001b[32m12.8/12.8 MB\u001b[0m \u001b[31m78.2 MB/s\u001b[0m eta \u001b[36m0:00:00\u001b[0m\n",
            "\u001b[?25hRequirement already satisfied: spacy<3.6.0,>=3.5.0 in /usr/local/lib/python3.10/dist-packages (from en-core-web-sm==3.5.0) (3.5.4)\n",
            "Requirement already satisfied: spacy-legacy<3.1.0,>=3.0.11 in /usr/local/lib/python3.10/dist-packages (from spacy<3.6.0,>=3.5.0->en-core-web-sm==3.5.0) (3.0.12)\n",
            "Requirement already satisfied: spacy-loggers<2.0.0,>=1.0.0 in /usr/local/lib/python3.10/dist-packages (from spacy<3.6.0,>=3.5.0->en-core-web-sm==3.5.0) (1.0.4)\n",
            "Requirement already satisfied: murmurhash<1.1.0,>=0.28.0 in /usr/local/lib/python3.10/dist-packages (from spacy<3.6.0,>=3.5.0->en-core-web-sm==3.5.0) (1.0.9)\n",
            "Requirement already satisfied: cymem<2.1.0,>=2.0.2 in /usr/local/lib/python3.10/dist-packages (from spacy<3.6.0,>=3.5.0->en-core-web-sm==3.5.0) (2.0.7)\n",
            "Requirement already satisfied: preshed<3.1.0,>=3.0.2 in /usr/local/lib/python3.10/dist-packages (from spacy<3.6.0,>=3.5.0->en-core-web-sm==3.5.0) (3.0.8)\n",
            "Requirement already satisfied: thinc<8.2.0,>=8.1.8 in /usr/local/lib/python3.10/dist-packages (from spacy<3.6.0,>=3.5.0->en-core-web-sm==3.5.0) (8.1.10)\n",
            "Requirement already satisfied: wasabi<1.2.0,>=0.9.1 in /usr/local/lib/python3.10/dist-packages (from spacy<3.6.0,>=3.5.0->en-core-web-sm==3.5.0) (1.1.2)\n",
            "Requirement already satisfied: srsly<3.0.0,>=2.4.3 in /usr/local/lib/python3.10/dist-packages (from spacy<3.6.0,>=3.5.0->en-core-web-sm==3.5.0) (2.4.7)\n",
            "Requirement already satisfied: catalogue<2.1.0,>=2.0.6 in /usr/local/lib/python3.10/dist-packages (from spacy<3.6.0,>=3.5.0->en-core-web-sm==3.5.0) (2.0.8)\n",
            "Requirement already satisfied: typer<0.10.0,>=0.3.0 in /usr/local/lib/python3.10/dist-packages (from spacy<3.6.0,>=3.5.0->en-core-web-sm==3.5.0) (0.9.0)\n",
            "Requirement already satisfied: pathy>=0.10.0 in /usr/local/lib/python3.10/dist-packages (from spacy<3.6.0,>=3.5.0->en-core-web-sm==3.5.0) (0.10.2)\n",
            "Requirement already satisfied: smart-open<7.0.0,>=5.2.1 in /usr/local/lib/python3.10/dist-packages (from spacy<3.6.0,>=3.5.0->en-core-web-sm==3.5.0) (6.3.0)\n",
            "Requirement already satisfied: tqdm<5.0.0,>=4.38.0 in /usr/local/lib/python3.10/dist-packages (from spacy<3.6.0,>=3.5.0->en-core-web-sm==3.5.0) (4.65.0)\n",
            "Requirement already satisfied: numpy>=1.15.0 in /usr/local/lib/python3.10/dist-packages (from spacy<3.6.0,>=3.5.0->en-core-web-sm==3.5.0) (1.22.4)\n",
            "Requirement already satisfied: requests<3.0.0,>=2.13.0 in /usr/local/lib/python3.10/dist-packages (from spacy<3.6.0,>=3.5.0->en-core-web-sm==3.5.0) (2.27.1)\n",
            "Requirement already satisfied: pydantic!=1.8,!=1.8.1,<1.11.0,>=1.7.4 in /usr/local/lib/python3.10/dist-packages (from spacy<3.6.0,>=3.5.0->en-core-web-sm==3.5.0) (1.10.11)\n",
            "Requirement already satisfied: jinja2 in /usr/local/lib/python3.10/dist-packages (from spacy<3.6.0,>=3.5.0->en-core-web-sm==3.5.0) (3.1.2)\n",
            "Requirement already satisfied: setuptools in /usr/local/lib/python3.10/dist-packages (from spacy<3.6.0,>=3.5.0->en-core-web-sm==3.5.0) (67.7.2)\n",
            "Requirement already satisfied: packaging>=20.0 in /usr/local/lib/python3.10/dist-packages (from spacy<3.6.0,>=3.5.0->en-core-web-sm==3.5.0) (23.1)\n",
            "Requirement already satisfied: langcodes<4.0.0,>=3.2.0 in /usr/local/lib/python3.10/dist-packages (from spacy<3.6.0,>=3.5.0->en-core-web-sm==3.5.0) (3.3.0)\n",
            "Requirement already satisfied: typing-extensions>=4.2.0 in /usr/local/lib/python3.10/dist-packages (from pydantic!=1.8,!=1.8.1,<1.11.0,>=1.7.4->spacy<3.6.0,>=3.5.0->en-core-web-sm==3.5.0) (4.7.1)\n",
            "Requirement already satisfied: urllib3<1.27,>=1.21.1 in /usr/local/lib/python3.10/dist-packages (from requests<3.0.0,>=2.13.0->spacy<3.6.0,>=3.5.0->en-core-web-sm==3.5.0) (1.26.16)\n",
            "Requirement already satisfied: certifi>=2017.4.17 in /usr/local/lib/python3.10/dist-packages (from requests<3.0.0,>=2.13.0->spacy<3.6.0,>=3.5.0->en-core-web-sm==3.5.0) (2023.5.7)\n",
            "Requirement already satisfied: charset-normalizer~=2.0.0 in /usr/local/lib/python3.10/dist-packages (from requests<3.0.0,>=2.13.0->spacy<3.6.0,>=3.5.0->en-core-web-sm==3.5.0) (2.0.12)\n",
            "Requirement already satisfied: idna<4,>=2.5 in /usr/local/lib/python3.10/dist-packages (from requests<3.0.0,>=2.13.0->spacy<3.6.0,>=3.5.0->en-core-web-sm==3.5.0) (3.4)\n",
            "Requirement already satisfied: blis<0.8.0,>=0.7.8 in /usr/local/lib/python3.10/dist-packages (from thinc<8.2.0,>=8.1.8->spacy<3.6.0,>=3.5.0->en-core-web-sm==3.5.0) (0.7.9)\n",
            "Requirement already satisfied: confection<1.0.0,>=0.0.1 in /usr/local/lib/python3.10/dist-packages (from thinc<8.2.0,>=8.1.8->spacy<3.6.0,>=3.5.0->en-core-web-sm==3.5.0) (0.1.0)\n",
            "Requirement already satisfied: click<9.0.0,>=7.1.1 in /usr/local/lib/python3.10/dist-packages (from typer<0.10.0,>=0.3.0->spacy<3.6.0,>=3.5.0->en-core-web-sm==3.5.0) (8.1.6)\n",
            "Requirement already satisfied: MarkupSafe>=2.0 in /usr/local/lib/python3.10/dist-packages (from jinja2->spacy<3.6.0,>=3.5.0->en-core-web-sm==3.5.0) (2.1.3)\n",
            "\u001b[38;5;2m✔ Download and installation successful\u001b[0m\n",
            "You can now load the package via spacy.load('en_core_web_sm')\n"
          ]
        }
      ]
    },
    {
      "cell_type": "code",
      "source": [
        "import spacy"
      ],
      "metadata": {
        "id": "XATtmbpr_FqJ"
      },
      "execution_count": 3,
      "outputs": []
    },
    {
      "cell_type": "code",
      "source": [
        "nlp = spacy.load(\"en_core_web_sm\")"
      ],
      "metadata": {
        "id": "5FJzdMdO_bgc"
      },
      "execution_count": 4,
      "outputs": []
    },
    {
      "cell_type": "code",
      "source": [
        "with open (\"/content/Rise of AI.txt\", \"r\") as f:\n",
        "  text = f.read()"
      ],
      "metadata": {
        "id": "pVv05yf2_pUJ"
      },
      "execution_count": 7,
      "outputs": []
    },
    {
      "cell_type": "code",
      "source": [
        "print(text)"
      ],
      "metadata": {
        "colab": {
          "base_uri": "https://localhost:8080/"
        },
        "id": "e1G17gJ2EdwA",
        "outputId": "be04da05-e3ee-4fd7-ec78-38c16758adc2"
      },
      "execution_count": 8,
      "outputs": [
        {
          "output_type": "stream",
          "name": "stdout",
          "text": [
            "The Rise of Artificial Intelligence: Revolutionizing Industries and Transforming Society\\\n",
            "\n",
            "Introduction\n",
            "Artificial Intelligence (AI) has emerged as one of the most transformative and revolutionary technologies of the 21st century. Defined as the simulation of human intelligence in machines, AI has made remarkable strides in various domains, redefining the way we live, work, and interact. Powered by advanced algorithms and deep learning models, AI has shown unparalleled potential in solving complex problems, analyzing vast amounts of data, and automating tasks that were once deemed impossible. As AI continues to evolve, its impact on industries and society is becoming increasingly profound, reshaping our world in ways we could have never imagined before.\\\n",
            "\n",
            "AI in Industries\n",
            "Across industries, AI is revolutionizing the way businesses operate. In the healthcare sector, AI-driven algorithms are assisting in early disease detection, personalized treatment plans, and drug discovery. The automotive industry is rapidly incorporating AI into self-driving cars, enhancing safety and efficiency on the roads. In finance, AI-powered systems are driving smarter investments, detecting fraudulent activities, and streamlining customer service. Manufacturers are utilizing AI for predictive maintenance, optimizing supply chains, and improving production processes. Moreover, in education, AI is paving the way for personalized learning experiences, adaptive tutoring, and efficient administrative tasks. As AI technologies continue to advance, their integration into industries is expected to further drive productivity, innovation, and economic growth.\\\n",
            "\n",
            "Ethical Concerns and Societal Impact\n",
            "With the rapid integration of AI in our daily lives, ethical concerns have emerged. Issues such as data privacy, algorithmic biases, and job displacement have sparked debates surrounding the responsible and fair use of AI. Ensuring transparency, accountability, and inclusivity in AI development and deployment becomes crucial to avoid perpetuating existing social inequalities. Additionally, the fear of AI replacing human jobs has led to calls for reskilling and upskilling the workforce to adapt to the changing job landscape. Despite these challenges, when ethically harnessed, AI holds the potential to address some of humanity's most pressing problems, from climate change to healthcare accessibility.\n",
            "\n",
            "AI and Creativity\n",
            "Beyond its utilitarian applications, AI has entered the realm of creativity. AI-generated art, music, and literature have become a testament to the creative potential of machine learning. Artists and musicians are collaborating with AI systems to explore new frontiers of artistic expression, producing works that blur the lines between human and machine creativity. While AI-generated content raises questions about the authenticity and ownership of artistic creations, it also sparks a broader conversation about the nature of creativity and the role of AI as a tool for human artists to amplify their imaginative capabilities.\n",
            "\n",
            "Looking Ahead\n",
            "As AI continues to evolve, its future holds both exciting opportunities and formidable challenges. Researchers and developers are working tirelessly to create more robust, interpretable, and ethically aligned AI systems. Integrating AI into education and fostering AI literacy will be vital in preparing future generations for an AI-driven world. Policymakers and stakeholders must collaborate to establish regulations and frameworks that balance innovation with societal well-being. Embracing AI as a powerful tool while addressing its limitations and risks is essential to harness its full potential and ensure that AI remains a force for good in shaping the future of humanity. With responsible development and thoughtful implementation, AI can usher in a new era of possibilities, transforming the way we live, work, and relate to technology and each other.}\n"
          ]
        }
      ]
    },
    {
      "cell_type": "code",
      "source": [
        "doc = nlp(text)"
      ],
      "metadata": {
        "id": "TMAAiQO2Ef8G"
      },
      "execution_count": 9,
      "outputs": []
    },
    {
      "cell_type": "code",
      "source": [
        "print(doc)"
      ],
      "metadata": {
        "colab": {
          "base_uri": "https://localhost:8080/"
        },
        "id": "OSljNC_CFKKq",
        "outputId": "16f9d2fb-8d67-4d81-eb35-e657a75da082"
      },
      "execution_count": 10,
      "outputs": [
        {
          "output_type": "stream",
          "name": "stdout",
          "text": [
            "The Rise of Artificial Intelligence: Revolutionizing Industries and Transforming Society\\\n",
            "\n",
            "Introduction\n",
            "Artificial Intelligence (AI) has emerged as one of the most transformative and revolutionary technologies of the 21st century. Defined as the simulation of human intelligence in machines, AI has made remarkable strides in various domains, redefining the way we live, work, and interact. Powered by advanced algorithms and deep learning models, AI has shown unparalleled potential in solving complex problems, analyzing vast amounts of data, and automating tasks that were once deemed impossible. As AI continues to evolve, its impact on industries and society is becoming increasingly profound, reshaping our world in ways we could have never imagined before.\\\n",
            "\n",
            "AI in Industries\n",
            "Across industries, AI is revolutionizing the way businesses operate. In the healthcare sector, AI-driven algorithms are assisting in early disease detection, personalized treatment plans, and drug discovery. The automotive industry is rapidly incorporating AI into self-driving cars, enhancing safety and efficiency on the roads. In finance, AI-powered systems are driving smarter investments, detecting fraudulent activities, and streamlining customer service. Manufacturers are utilizing AI for predictive maintenance, optimizing supply chains, and improving production processes. Moreover, in education, AI is paving the way for personalized learning experiences, adaptive tutoring, and efficient administrative tasks. As AI technologies continue to advance, their integration into industries is expected to further drive productivity, innovation, and economic growth.\\\n",
            "\n",
            "Ethical Concerns and Societal Impact\n",
            "With the rapid integration of AI in our daily lives, ethical concerns have emerged. Issues such as data privacy, algorithmic biases, and job displacement have sparked debates surrounding the responsible and fair use of AI. Ensuring transparency, accountability, and inclusivity in AI development and deployment becomes crucial to avoid perpetuating existing social inequalities. Additionally, the fear of AI replacing human jobs has led to calls for reskilling and upskilling the workforce to adapt to the changing job landscape. Despite these challenges, when ethically harnessed, AI holds the potential to address some of humanity's most pressing problems, from climate change to healthcare accessibility.\n",
            "\n",
            "AI and Creativity\n",
            "Beyond its utilitarian applications, AI has entered the realm of creativity. AI-generated art, music, and literature have become a testament to the creative potential of machine learning. Artists and musicians are collaborating with AI systems to explore new frontiers of artistic expression, producing works that blur the lines between human and machine creativity. While AI-generated content raises questions about the authenticity and ownership of artistic creations, it also sparks a broader conversation about the nature of creativity and the role of AI as a tool for human artists to amplify their imaginative capabilities.\n",
            "\n",
            "Looking Ahead\n",
            "As AI continues to evolve, its future holds both exciting opportunities and formidable challenges. Researchers and developers are working tirelessly to create more robust, interpretable, and ethically aligned AI systems. Integrating AI into education and fostering AI literacy will be vital in preparing future generations for an AI-driven world. Policymakers and stakeholders must collaborate to establish regulations and frameworks that balance innovation with societal well-being. Embracing AI as a powerful tool while addressing its limitations and risks is essential to harness its full potential and ensure that AI remains a force for good in shaping the future of humanity. With responsible development and thoughtful implementation, AI can usher in a new era of possibilities, transforming the way we live, work, and relate to technology and each other.}\n"
          ]
        }
      ]
    },
    {
      "cell_type": "code",
      "source": [
        "print (len(text))\n",
        "print (len(doc))"
      ],
      "metadata": {
        "colab": {
          "base_uri": "https://localhost:8080/"
        },
        "id": "KDkHpdD3FMry",
        "outputId": "2296be08-befe-4818-dcae-03a0811d8eb1"
      },
      "execution_count": 11,
      "outputs": [
        {
          "output_type": "stream",
          "name": "stdout",
          "text": [
            "3928\n",
            "656\n"
          ]
        }
      ]
    },
    {
      "cell_type": "code",
      "source": [
        "for token in text[0:10]:\n",
        "  print(token)\n"
      ],
      "metadata": {
        "colab": {
          "base_uri": "https://localhost:8080/"
        },
        "id": "0CtBhMKRFYBg",
        "outputId": "e0c963d7-24b8-4923-ff04-4ff4a3d221e6"
      },
      "execution_count": 12,
      "outputs": [
        {
          "output_type": "stream",
          "name": "stdout",
          "text": [
            "T\n",
            "h\n",
            "e\n",
            " \n",
            "R\n",
            "i\n",
            "s\n",
            "e\n",
            " \n",
            "o\n"
          ]
        }
      ]
    },
    {
      "cell_type": "code",
      "source": [
        "for token in doc[0:10]:\n",
        "  print(token)"
      ],
      "metadata": {
        "colab": {
          "base_uri": "https://localhost:8080/"
        },
        "id": "oHLSYaP4l3jr",
        "outputId": "5fb8f206-45d1-422b-fa8a-fe19a9b883ff"
      },
      "execution_count": 13,
      "outputs": [
        {
          "output_type": "stream",
          "name": "stdout",
          "text": [
            "The\n",
            "Rise\n",
            "of\n",
            "Artificial\n",
            "Intelligence\n",
            ":\n",
            "Revolutionizing\n",
            "Industries\n",
            "and\n",
            "Transforming\n"
          ]
        }
      ]
    },
    {
      "cell_type": "markdown",
      "source": [
        "The text object counts individual letters, whereas the doc object counts individual tokens/words."
      ],
      "metadata": {
        "id": "TYljQ4DjmHxB"
      }
    },
    {
      "cell_type": "code",
      "source": [
        "for token in text.split()[:10]:\n",
        "  print(token)"
      ],
      "metadata": {
        "colab": {
          "base_uri": "https://localhost:8080/"
        },
        "id": "C0MA1dq0mACe",
        "outputId": "061e4a3b-f305-420f-c40b-6415c11aa93d"
      },
      "execution_count": 14,
      "outputs": [
        {
          "output_type": "stream",
          "name": "stdout",
          "text": [
            "The\n",
            "Rise\n",
            "of\n",
            "Artificial\n",
            "Intelligence:\n",
            "Revolutionizing\n",
            "Industries\n",
            "and\n",
            "Transforming\n",
            "Society\\\n"
          ]
        }
      ]
    },
    {
      "cell_type": "markdown",
      "source": [
        "## **Sentence Boundary Detection** -\n",
        "In NLP, Sentence Boundary Detection is the identification of the sentences in the text."
      ],
      "metadata": {
        "id": "bK7RpvnynFE9"
      }
    },
    {
      "cell_type": "code",
      "source": [
        "for sent in doc.sents:\n",
        "  print(sent)"
      ],
      "metadata": {
        "colab": {
          "base_uri": "https://localhost:8080/"
        },
        "id": "_usMWDdLm1t1",
        "outputId": "8aa758e2-cda7-4093-c2b5-06c2f2efe2e1"
      },
      "execution_count": 15,
      "outputs": [
        {
          "output_type": "stream",
          "name": "stdout",
          "text": [
            "The Rise of Artificial Intelligence: Revolutionizing Industries and Transforming Society\\\n",
            "\n",
            "Introduction\n",
            "Artificial Intelligence (AI) has emerged as one of the most transformative and revolutionary technologies of the 21st century.\n",
            "Defined as the simulation of human intelligence in machines, AI has made remarkable strides in various domains, redefining the way we live, work, and interact.\n",
            "Powered by advanced algorithms and deep learning models, AI has shown unparalleled potential in solving complex problems, analyzing vast amounts of data, and automating tasks that were once deemed impossible.\n",
            "As AI continues to evolve, its impact on industries and society is becoming increasingly profound, reshaping our world in ways we could have never imagined before.\\\n",
            "\n",
            "AI in Industries\n",
            "Across industries, AI is revolutionizing the way businesses operate.\n",
            "In the healthcare sector, AI-driven algorithms are assisting in early disease detection, personalized treatment plans, and drug discovery.\n",
            "The automotive industry is rapidly incorporating AI into self-driving cars, enhancing safety and efficiency on the roads.\n",
            "In finance, AI-powered systems are driving smarter investments, detecting fraudulent activities, and streamlining customer service.\n",
            "Manufacturers are utilizing AI for predictive maintenance, optimizing supply chains, and improving production processes.\n",
            "Moreover, in education, AI is paving the way for personalized learning experiences, adaptive tutoring, and efficient administrative tasks.\n",
            "As AI technologies continue to advance, their integration into industries is expected to further drive productivity, innovation, and economic growth.\\\n",
            "\n",
            "Ethical Concerns and Societal Impact\n",
            "With the rapid integration of AI in our daily lives, ethical concerns have emerged.\n",
            "Issues such as data privacy, algorithmic biases, and job displacement have sparked debates surrounding the responsible and fair use of AI.\n",
            "Ensuring transparency, accountability, and inclusivity in AI development and deployment becomes crucial to avoid perpetuating existing social inequalities.\n",
            "Additionally, the fear of AI replacing human jobs has led to calls for reskilling and upskilling the workforce to adapt to the changing job landscape.\n",
            "Despite these challenges, when ethically harnessed, AI holds the potential to address some of humanity's most pressing problems, from climate change to healthcare accessibility.\n",
            "\n",
            "\n",
            "AI and Creativity\n",
            "Beyond its utilitarian applications, AI has entered the realm of creativity.\n",
            "AI-generated art, music, and literature have become a testament to the creative potential of machine learning.\n",
            "Artists and musicians are collaborating with AI systems to explore new frontiers of artistic expression, producing works that blur the lines between human and machine creativity.\n",
            "While AI-generated content raises questions about the authenticity and ownership of artistic creations, it also sparks a broader conversation about the nature of creativity and the role of AI as a tool for human artists to amplify their imaginative capabilities.\n",
            "\n",
            "\n",
            "Looking Ahead\n",
            "As AI continues to evolve, its future holds both exciting opportunities and formidable challenges.\n",
            "Researchers and developers are working tirelessly to create more robust, interpretable, and ethically aligned AI systems.\n",
            "Integrating AI into education and fostering AI literacy will be vital in preparing future generations for an AI-driven world.\n",
            "Policymakers and stakeholders must collaborate to establish regulations and frameworks that balance innovation with societal well-being.\n",
            "Embracing AI as a powerful tool while addressing its limitations and risks is essential to harness its full potential and ensure that AI remains a force for good in shaping the future of humanity.\n",
            "With responsible development and thoughtful implementation, AI can usher in a new era of possibilities, transforming the way we live, work, and relate to technology and each other.}\n"
          ]
        }
      ]
    },
    {
      "cell_type": "code",
      "source": [
        "sentence1 = doc.sents[0]\n",
        "print(sentence1)"
      ],
      "metadata": {
        "colab": {
          "base_uri": "https://localhost:8080/",
          "height": 187
        },
        "id": "LHLJZyIonuri",
        "outputId": "8d577de5-33cf-46e1-9936-d8e00386fbe5"
      },
      "execution_count": 16,
      "outputs": [
        {
          "output_type": "error",
          "ename": "TypeError",
          "evalue": "ignored",
          "traceback": [
            "\u001b[0;31m---------------------------------------------------------------------------\u001b[0m",
            "\u001b[0;31mTypeError\u001b[0m                                 Traceback (most recent call last)",
            "\u001b[0;32m<ipython-input-16-25e66f7c2dc9>\u001b[0m in \u001b[0;36m<cell line: 1>\u001b[0;34m()\u001b[0m\n\u001b[0;32m----> 1\u001b[0;31m \u001b[0msentence1\u001b[0m \u001b[0;34m=\u001b[0m \u001b[0mdoc\u001b[0m\u001b[0;34m.\u001b[0m\u001b[0msents\u001b[0m\u001b[0;34m[\u001b[0m\u001b[0;36m0\u001b[0m\u001b[0;34m]\u001b[0m\u001b[0;34m\u001b[0m\u001b[0;34m\u001b[0m\u001b[0m\n\u001b[0m\u001b[1;32m      2\u001b[0m \u001b[0mprint\u001b[0m\u001b[0;34m(\u001b[0m\u001b[0msentence1\u001b[0m\u001b[0;34m)\u001b[0m\u001b[0;34m\u001b[0m\u001b[0;34m\u001b[0m\u001b[0m\n",
            "\u001b[0;31mTypeError\u001b[0m: 'generator' object is not subscriptable"
          ]
        }
      ]
    },
    {
      "cell_type": "code",
      "source": [
        "sentence1 = list(doc.sents)[0]\n",
        "print(sentence1)"
      ],
      "metadata": {
        "colab": {
          "base_uri": "https://localhost:8080/"
        },
        "id": "5F2tbpO8oX_E",
        "outputId": "325b0b54-e499-460b-a89b-1d6a3776a683"
      },
      "execution_count": 17,
      "outputs": [
        {
          "output_type": "stream",
          "name": "stdout",
          "text": [
            "The Rise of Artificial Intelligence: Revolutionizing Industries and Transforming Society\\\n",
            "\n",
            "Introduction\n",
            "Artificial Intelligence (AI) has emerged as one of the most transformative and revolutionary technologies of the 21st century.\n"
          ]
        }
      ]
    },
    {
      "cell_type": "markdown",
      "source": [
        "## **Token Attributes** -\n",
        "The token object contains a lot of different attributes that are VITAL do performing NLP in spaCy. We will be working with a few of them, such as:\n",
        "\n",
        ".text\n",
        "\n",
        ".head\n",
        "\n",
        ".left_edge\n",
        "\n",
        ".right_edge\n",
        "\n",
        ".ent_type_\n",
        "\n",
        ".iob_\n",
        "\n",
        ".lemma_\n",
        "\n",
        ".morph\n",
        "\n",
        ".pos_\n",
        "\n",
        ".dep_\n",
        "\n",
        ".lang_"
      ],
      "metadata": {
        "id": "wngZnTLepDZF"
      }
    },
    {
      "cell_type": "code",
      "source": [
        "token2 = sentence1[3]\n",
        "print(token2)"
      ],
      "metadata": {
        "colab": {
          "base_uri": "https://localhost:8080/"
        },
        "id": "i3vstlg-oea-",
        "outputId": "48b3e991-10db-4c1c-fc73-874d768f67e3"
      },
      "execution_count": 20,
      "outputs": [
        {
          "output_type": "stream",
          "name": "stdout",
          "text": [
            "Artificial\n"
          ]
        }
      ]
    },
    {
      "cell_type": "code",
      "source": [
        "token2.text #This prints the token in string format"
      ],
      "metadata": {
        "colab": {
          "base_uri": "https://localhost:8080/",
          "height": 35
        },
        "id": "x2zCsFcypBq3",
        "outputId": "50fe6402-95e0-4013-eaa8-7ca4885c1f18"
      },
      "execution_count": 21,
      "outputs": [
        {
          "output_type": "execute_result",
          "data": {
            "text/plain": [
              "'Artificial'"
            ],
            "application/vnd.google.colaboratory.intrinsic+json": {
              "type": "string"
            }
          },
          "metadata": {},
          "execution_count": 21
        }
      ]
    },
    {
      "cell_type": "code",
      "source": [
        "token2.ent_type"
      ],
      "metadata": {
        "colab": {
          "base_uri": "https://localhost:8080/"
        },
        "id": "-NDcgeZKqMh5",
        "outputId": "3ff7d57f-0449-4856-a7a8-18e2969466e5"
      },
      "execution_count": 24,
      "outputs": [
        {
          "output_type": "execute_result",
          "data": {
            "text/plain": [
              "0"
            ]
          },
          "metadata": {},
          "execution_count": 24
        }
      ]
    },
    {
      "cell_type": "code",
      "source": [
        "token2.ent_type_"
      ],
      "metadata": {
        "colab": {
          "base_uri": "https://localhost:8080/",
          "height": 35
        },
        "id": "IO3fXp8WqT1H",
        "outputId": "2c1e46f0-ea67-4d3a-de4a-5ddc02674941"
      },
      "execution_count": 25,
      "outputs": [
        {
          "output_type": "execute_result",
          "data": {
            "text/plain": [
              "''"
            ],
            "application/vnd.google.colaboratory.intrinsic+json": {
              "type": "string"
            }
          },
          "metadata": {},
          "execution_count": 25
        }
      ]
    },
    {
      "cell_type": "code",
      "source": [
        "# 'B' means beginning of the entity\n",
        "# 'I' means inside the entity\n",
        "# 'O' means outside the entity\n",
        "token2.ent_iob_"
      ],
      "metadata": {
        "colab": {
          "base_uri": "https://localhost:8080/",
          "height": 35
        },
        "id": "Z65JYeEFqXj9",
        "outputId": "802d5594-eb7a-4685-dab4-d39d5482403b"
      },
      "execution_count": 28,
      "outputs": [
        {
          "output_type": "execute_result",
          "data": {
            "text/plain": [
              "'O'"
            ],
            "application/vnd.google.colaboratory.intrinsic+json": {
              "type": "string"
            }
          },
          "metadata": {},
          "execution_count": 28
        }
      ]
    },
    {
      "cell_type": "code",
      "source": [
        "token2.lemma_"
      ],
      "metadata": {
        "colab": {
          "base_uri": "https://localhost:8080/",
          "height": 35
        },
        "id": "PWE079L4rSBN",
        "outputId": "fad87f26-ae3f-4bb1-8719-9ea222d9c3ab"
      },
      "execution_count": 30,
      "outputs": [
        {
          "output_type": "execute_result",
          "data": {
            "text/plain": [
              "'Artificial'"
            ],
            "application/vnd.google.colaboratory.intrinsic+json": {
              "type": "string"
            }
          },
          "metadata": {},
          "execution_count": 30
        }
      ]
    },
    {
      "cell_type": "code",
      "source": [
        "print(sentence1[29])"
      ],
      "metadata": {
        "colab": {
          "base_uri": "https://localhost:8080/"
        },
        "id": "kq3IR8dArtYL",
        "outputId": "8439bfab-cafd-400b-86bf-f16e30e53e36"
      },
      "execution_count": 35,
      "outputs": [
        {
          "output_type": "stream",
          "name": "stdout",
          "text": [
            "technologies\n"
          ]
        }
      ]
    },
    {
      "cell_type": "code",
      "source": [
        "sentence1[29].lemma_"
      ],
      "metadata": {
        "colab": {
          "base_uri": "https://localhost:8080/",
          "height": 35
        },
        "id": "fPVlz7I3r3tf",
        "outputId": "b1d99e5e-abc0-4b52-c3a9-033ac263fc00"
      },
      "execution_count": 36,
      "outputs": [
        {
          "output_type": "execute_result",
          "data": {
            "text/plain": [
              "'technology'"
            ],
            "application/vnd.google.colaboratory.intrinsic+json": {
              "type": "string"
            }
          },
          "metadata": {},
          "execution_count": 36
        }
      ]
    },
    {
      "cell_type": "code",
      "source": [
        "token2.morph"
      ],
      "metadata": {
        "colab": {
          "base_uri": "https://localhost:8080/"
        },
        "id": "NqbQLNsJsL_S",
        "outputId": "cd2f12eb-1364-4f06-f773-4692f30f0fb9"
      },
      "execution_count": 37,
      "outputs": [
        {
          "output_type": "execute_result",
          "data": {
            "text/plain": [
              "Number=Sing"
            ]
          },
          "metadata": {},
          "execution_count": 37
        }
      ]
    },
    {
      "cell_type": "code",
      "source": [
        "# This prints the part of speech of the token\n",
        "token2.pos_"
      ],
      "metadata": {
        "colab": {
          "base_uri": "https://localhost:8080/",
          "height": 35
        },
        "id": "4j5ihqlUsWtv",
        "outputId": "1f5297f9-c066-473d-abd7-7c59ba2026ed"
      },
      "execution_count": 40,
      "outputs": [
        {
          "output_type": "execute_result",
          "data": {
            "text/plain": [
              "'PROPN'"
            ],
            "application/vnd.google.colaboratory.intrinsic+json": {
              "type": "string"
            }
          },
          "metadata": {},
          "execution_count": 40
        }
      ]
    },
    {
      "cell_type": "code",
      "source": [
        "# This prints the dependency relation of the token i.e. what role it plays in the sentence\n",
        "token2.dep_"
      ],
      "metadata": {
        "colab": {
          "base_uri": "https://localhost:8080/",
          "height": 35
        },
        "id": "klbaM2fOsnjS",
        "outputId": "f5e431a0-c7a5-4679-fd03-ac0b7368ff23"
      },
      "execution_count": 42,
      "outputs": [
        {
          "output_type": "execute_result",
          "data": {
            "text/plain": [
              "'compound'"
            ],
            "application/vnd.google.colaboratory.intrinsic+json": {
              "type": "string"
            }
          },
          "metadata": {},
          "execution_count": 42
        }
      ]
    },
    {
      "cell_type": "code",
      "source": [
        "token2.lang_"
      ],
      "metadata": {
        "colab": {
          "base_uri": "https://localhost:8080/",
          "height": 35
        },
        "id": "x4J3dkS2s8z6",
        "outputId": "bcfcf77d-d7a9-4e77-d774-c7ed95635799"
      },
      "execution_count": 44,
      "outputs": [
        {
          "output_type": "execute_result",
          "data": {
            "text/plain": [
              "'en'"
            ],
            "application/vnd.google.colaboratory.intrinsic+json": {
              "type": "string"
            }
          },
          "metadata": {},
          "execution_count": 44
        }
      ]
    },
    {
      "cell_type": "code",
      "source": [
        "text = \"Steve likes watching movies.\"\n",
        "doc2 = nlp(text)\n",
        "print(doc2)"
      ],
      "metadata": {
        "colab": {
          "base_uri": "https://localhost:8080/"
        },
        "id": "7slr81L-tUDc",
        "outputId": "f18dbe2c-10d5-4012-8abf-934121b121f5"
      },
      "execution_count": 45,
      "outputs": [
        {
          "output_type": "stream",
          "name": "stdout",
          "text": [
            "Steve likes watching movies.\n"
          ]
        }
      ]
    },
    {
      "cell_type": "code",
      "source": [
        "for token in doc2:\n",
        "  print(token.text, token.pos_, token.dep_)"
      ],
      "metadata": {
        "colab": {
          "base_uri": "https://localhost:8080/"
        },
        "id": "4j2uY-gEuUfz",
        "outputId": "99ec6d2c-e298-4bf2-924b-c5715dcef068"
      },
      "execution_count": 46,
      "outputs": [
        {
          "output_type": "stream",
          "name": "stdout",
          "text": [
            "Steve PROPN nsubj\n",
            "likes VERB ROOT\n",
            "watching VERB xcomp\n",
            "movies NOUN dobj\n",
            ". PUNCT punct\n"
          ]
        }
      ]
    },
    {
      "cell_type": "code",
      "source": [
        "from spacy import displacy\n",
        "displacy.render(doc2, style=\"dep\", jupyter=True)"
      ],
      "metadata": {
        "colab": {
          "base_uri": "https://localhost:8080/",
          "height": 245
        },
        "id": "iv63qdGUulMx",
        "outputId": "0502eb10-ee8d-499d-c202-cae3e7d12a97"
      },
      "execution_count": 47,
      "outputs": [
        {
          "output_type": "display_data",
          "data": {
            "text/plain": [
              "<IPython.core.display.HTML object>"
            ],
            "text/html": [
              "<span class=\"tex2jax_ignore\"><svg xmlns=\"http://www.w3.org/2000/svg\" xmlns:xlink=\"http://www.w3.org/1999/xlink\" xml:lang=\"en\" id=\"fe647c03c33a4a0e9ded150313f81738-0\" class=\"displacy\" width=\"750\" height=\"224.5\" direction=\"ltr\" style=\"max-width: none; height: 224.5px; color: #000000; background: #ffffff; font-family: Arial; direction: ltr\">\n",
              "<text class=\"displacy-token\" fill=\"currentColor\" text-anchor=\"middle\" y=\"134.5\">\n",
              "    <tspan class=\"displacy-word\" fill=\"currentColor\" x=\"50\">Steve</tspan>\n",
              "    <tspan class=\"displacy-tag\" dy=\"2em\" fill=\"currentColor\" x=\"50\">PROPN</tspan>\n",
              "</text>\n",
              "\n",
              "<text class=\"displacy-token\" fill=\"currentColor\" text-anchor=\"middle\" y=\"134.5\">\n",
              "    <tspan class=\"displacy-word\" fill=\"currentColor\" x=\"225\">likes</tspan>\n",
              "    <tspan class=\"displacy-tag\" dy=\"2em\" fill=\"currentColor\" x=\"225\">VERB</tspan>\n",
              "</text>\n",
              "\n",
              "<text class=\"displacy-token\" fill=\"currentColor\" text-anchor=\"middle\" y=\"134.5\">\n",
              "    <tspan class=\"displacy-word\" fill=\"currentColor\" x=\"400\">watching</tspan>\n",
              "    <tspan class=\"displacy-tag\" dy=\"2em\" fill=\"currentColor\" x=\"400\">VERB</tspan>\n",
              "</text>\n",
              "\n",
              "<text class=\"displacy-token\" fill=\"currentColor\" text-anchor=\"middle\" y=\"134.5\">\n",
              "    <tspan class=\"displacy-word\" fill=\"currentColor\" x=\"575\">movies.</tspan>\n",
              "    <tspan class=\"displacy-tag\" dy=\"2em\" fill=\"currentColor\" x=\"575\">NOUN</tspan>\n",
              "</text>\n",
              "\n",
              "<g class=\"displacy-arrow\">\n",
              "    <path class=\"displacy-arc\" id=\"arrow-fe647c03c33a4a0e9ded150313f81738-0-0\" stroke-width=\"2px\" d=\"M70,89.5 C70,2.0 225.0,2.0 225.0,89.5\" fill=\"none\" stroke=\"currentColor\"/>\n",
              "    <text dy=\"1.25em\" style=\"font-size: 0.8em; letter-spacing: 1px\">\n",
              "        <textPath xlink:href=\"#arrow-fe647c03c33a4a0e9ded150313f81738-0-0\" class=\"displacy-label\" startOffset=\"50%\" side=\"left\" fill=\"currentColor\" text-anchor=\"middle\">nsubj</textPath>\n",
              "    </text>\n",
              "    <path class=\"displacy-arrowhead\" d=\"M70,91.5 L62,79.5 78,79.5\" fill=\"currentColor\"/>\n",
              "</g>\n",
              "\n",
              "<g class=\"displacy-arrow\">\n",
              "    <path class=\"displacy-arc\" id=\"arrow-fe647c03c33a4a0e9ded150313f81738-0-1\" stroke-width=\"2px\" d=\"M245,89.5 C245,2.0 400.0,2.0 400.0,89.5\" fill=\"none\" stroke=\"currentColor\"/>\n",
              "    <text dy=\"1.25em\" style=\"font-size: 0.8em; letter-spacing: 1px\">\n",
              "        <textPath xlink:href=\"#arrow-fe647c03c33a4a0e9ded150313f81738-0-1\" class=\"displacy-label\" startOffset=\"50%\" side=\"left\" fill=\"currentColor\" text-anchor=\"middle\">xcomp</textPath>\n",
              "    </text>\n",
              "    <path class=\"displacy-arrowhead\" d=\"M400.0,91.5 L408.0,79.5 392.0,79.5\" fill=\"currentColor\"/>\n",
              "</g>\n",
              "\n",
              "<g class=\"displacy-arrow\">\n",
              "    <path class=\"displacy-arc\" id=\"arrow-fe647c03c33a4a0e9ded150313f81738-0-2\" stroke-width=\"2px\" d=\"M420,89.5 C420,2.0 575.0,2.0 575.0,89.5\" fill=\"none\" stroke=\"currentColor\"/>\n",
              "    <text dy=\"1.25em\" style=\"font-size: 0.8em; letter-spacing: 1px\">\n",
              "        <textPath xlink:href=\"#arrow-fe647c03c33a4a0e9ded150313f81738-0-2\" class=\"displacy-label\" startOffset=\"50%\" side=\"left\" fill=\"currentColor\" text-anchor=\"middle\">dobj</textPath>\n",
              "    </text>\n",
              "    <path class=\"displacy-arrowhead\" d=\"M575.0,91.5 L583.0,79.5 567.0,79.5\" fill=\"currentColor\"/>\n",
              "</g>\n",
              "</svg></span>"
            ]
          },
          "metadata": {}
        }
      ]
    },
    {
      "cell_type": "markdown",
      "source": [
        "## **Named Entity Recognition** -\n",
        " Named Entity Recognition is the identification of the named entities in the text."
      ],
      "metadata": {
        "id": "jjxCL5Pjwb6e"
      }
    },
    {
      "cell_type": "code",
      "source": [
        "for ent in doc.ents:\n",
        "  print(ent.text, ent.label_)"
      ],
      "metadata": {
        "colab": {
          "base_uri": "https://localhost:8080/"
        },
        "id": "Aq1xycvpwEw3",
        "outputId": "ce10bc9d-cef7-4944-e970-4bbb344563ff"
      },
      "execution_count": 51,
      "outputs": [
        {
          "output_type": "stream",
          "name": "stdout",
          "text": [
            "the 21st century DATE\n",
            "AI ORG\n",
            "AI ORG\n",
            "AI ORG\n",
            "AI in Industries\n",
            "Across industries WORK_OF_ART\n",
            "AI ORG\n",
            "AI ORG\n",
            "AI ORG\n",
            "AI ORG\n",
            "AI ORG\n",
            "AI ORG\n",
            "Ethical Concerns and Societal Impact\n",
            "With the rapid integration WORK_OF_ART\n",
            "AI ORG\n",
            "AI ORG\n",
            "AI ORG\n",
            "AI ORG\n",
            "AI ORG\n",
            "AI ORG\n",
            "AI ORG\n",
            "AI ORG\n",
            "AI ORG\n",
            "Looking Ahead\n",
            "As AI WORK_OF_ART\n",
            "AI ORG\n",
            "AI ORG\n",
            "AI ORG\n",
            "AI ORG\n",
            "AI ORG\n",
            "AI ORG\n"
          ]
        }
      ]
    },
    {
      "cell_type": "code",
      "source": [
        "displacy.render(doc, style=\"ent\", jupyter=True)"
      ],
      "metadata": {
        "colab": {
          "base_uri": "https://localhost:8080/",
          "height": 1000
        },
        "id": "08R8cD9ew94Z",
        "outputId": "7826b997-30fe-4c2b-9ea8-1e2d2a60a9bd"
      },
      "execution_count": 52,
      "outputs": [
        {
          "output_type": "display_data",
          "data": {
            "text/plain": [
              "<IPython.core.display.HTML object>"
            ],
            "text/html": [
              "<span class=\"tex2jax_ignore\"><div class=\"entities\" style=\"line-height: 2.5; direction: ltr\">The Rise of Artificial Intelligence: Revolutionizing Industries and Transforming Society\\</br></br>Introduction</br>Artificial Intelligence (AI) has emerged as one of the most transformative and revolutionary technologies of \n",
              "<mark class=\"entity\" style=\"background: #bfe1d9; padding: 0.45em 0.6em; margin: 0 0.25em; line-height: 1; border-radius: 0.35em;\">\n",
              "    the 21st century\n",
              "    <span style=\"font-size: 0.8em; font-weight: bold; line-height: 1; border-radius: 0.35em; vertical-align: middle; margin-left: 0.5rem\">DATE</span>\n",
              "</mark>\n",
              ". Defined as the simulation of human intelligence in machines, \n",
              "<mark class=\"entity\" style=\"background: #7aecec; padding: 0.45em 0.6em; margin: 0 0.25em; line-height: 1; border-radius: 0.35em;\">\n",
              "    AI\n",
              "    <span style=\"font-size: 0.8em; font-weight: bold; line-height: 1; border-radius: 0.35em; vertical-align: middle; margin-left: 0.5rem\">ORG</span>\n",
              "</mark>\n",
              " has made remarkable strides in various domains, redefining the way we live, work, and interact. Powered by advanced algorithms and deep learning models, \n",
              "<mark class=\"entity\" style=\"background: #7aecec; padding: 0.45em 0.6em; margin: 0 0.25em; line-height: 1; border-radius: 0.35em;\">\n",
              "    AI\n",
              "    <span style=\"font-size: 0.8em; font-weight: bold; line-height: 1; border-radius: 0.35em; vertical-align: middle; margin-left: 0.5rem\">ORG</span>\n",
              "</mark>\n",
              " has shown unparalleled potential in solving complex problems, analyzing vast amounts of data, and automating tasks that were once deemed impossible. As \n",
              "<mark class=\"entity\" style=\"background: #7aecec; padding: 0.45em 0.6em; margin: 0 0.25em; line-height: 1; border-radius: 0.35em;\">\n",
              "    AI\n",
              "    <span style=\"font-size: 0.8em; font-weight: bold; line-height: 1; border-radius: 0.35em; vertical-align: middle; margin-left: 0.5rem\">ORG</span>\n",
              "</mark>\n",
              " continues to evolve, its impact on industries and society is becoming increasingly profound, reshaping our world in ways we could have never imagined before.\\</br></br>\n",
              "<mark class=\"entity\" style=\"background: #f0d0ff; padding: 0.45em 0.6em; margin: 0 0.25em; line-height: 1; border-radius: 0.35em;\">\n",
              "    AI in Industries\n",
              "Across industries\n",
              "    <span style=\"font-size: 0.8em; font-weight: bold; line-height: 1; border-radius: 0.35em; vertical-align: middle; margin-left: 0.5rem\">WORK_OF_ART</span>\n",
              "</mark>\n",
              ", \n",
              "<mark class=\"entity\" style=\"background: #7aecec; padding: 0.45em 0.6em; margin: 0 0.25em; line-height: 1; border-radius: 0.35em;\">\n",
              "    AI\n",
              "    <span style=\"font-size: 0.8em; font-weight: bold; line-height: 1; border-radius: 0.35em; vertical-align: middle; margin-left: 0.5rem\">ORG</span>\n",
              "</mark>\n",
              " is revolutionizing the way businesses operate. In the healthcare sector, AI-driven algorithms are assisting in early disease detection, personalized treatment plans, and drug discovery. The automotive industry is rapidly incorporating \n",
              "<mark class=\"entity\" style=\"background: #7aecec; padding: 0.45em 0.6em; margin: 0 0.25em; line-height: 1; border-radius: 0.35em;\">\n",
              "    AI\n",
              "    <span style=\"font-size: 0.8em; font-weight: bold; line-height: 1; border-radius: 0.35em; vertical-align: middle; margin-left: 0.5rem\">ORG</span>\n",
              "</mark>\n",
              " into self-driving cars, enhancing safety and efficiency on the roads. In finance, \n",
              "<mark class=\"entity\" style=\"background: #7aecec; padding: 0.45em 0.6em; margin: 0 0.25em; line-height: 1; border-radius: 0.35em;\">\n",
              "    AI\n",
              "    <span style=\"font-size: 0.8em; font-weight: bold; line-height: 1; border-radius: 0.35em; vertical-align: middle; margin-left: 0.5rem\">ORG</span>\n",
              "</mark>\n",
              "-powered systems are driving smarter investments, detecting fraudulent activities, and streamlining customer service. Manufacturers are utilizing \n",
              "<mark class=\"entity\" style=\"background: #7aecec; padding: 0.45em 0.6em; margin: 0 0.25em; line-height: 1; border-radius: 0.35em;\">\n",
              "    AI\n",
              "    <span style=\"font-size: 0.8em; font-weight: bold; line-height: 1; border-radius: 0.35em; vertical-align: middle; margin-left: 0.5rem\">ORG</span>\n",
              "</mark>\n",
              " for predictive maintenance, optimizing supply chains, and improving production processes. Moreover, in education, \n",
              "<mark class=\"entity\" style=\"background: #7aecec; padding: 0.45em 0.6em; margin: 0 0.25em; line-height: 1; border-radius: 0.35em;\">\n",
              "    AI\n",
              "    <span style=\"font-size: 0.8em; font-weight: bold; line-height: 1; border-radius: 0.35em; vertical-align: middle; margin-left: 0.5rem\">ORG</span>\n",
              "</mark>\n",
              " is paving the way for personalized learning experiences, adaptive tutoring, and efficient administrative tasks. As \n",
              "<mark class=\"entity\" style=\"background: #7aecec; padding: 0.45em 0.6em; margin: 0 0.25em; line-height: 1; border-radius: 0.35em;\">\n",
              "    AI\n",
              "    <span style=\"font-size: 0.8em; font-weight: bold; line-height: 1; border-radius: 0.35em; vertical-align: middle; margin-left: 0.5rem\">ORG</span>\n",
              "</mark>\n",
              " technologies continue to advance, their integration into industries is expected to further drive productivity, innovation, and economic growth.\\</br></br>\n",
              "<mark class=\"entity\" style=\"background: #f0d0ff; padding: 0.45em 0.6em; margin: 0 0.25em; line-height: 1; border-radius: 0.35em;\">\n",
              "    Ethical Concerns and Societal Impact\n",
              "With the rapid integration\n",
              "    <span style=\"font-size: 0.8em; font-weight: bold; line-height: 1; border-radius: 0.35em; vertical-align: middle; margin-left: 0.5rem\">WORK_OF_ART</span>\n",
              "</mark>\n",
              " of \n",
              "<mark class=\"entity\" style=\"background: #7aecec; padding: 0.45em 0.6em; margin: 0 0.25em; line-height: 1; border-radius: 0.35em;\">\n",
              "    AI\n",
              "    <span style=\"font-size: 0.8em; font-weight: bold; line-height: 1; border-radius: 0.35em; vertical-align: middle; margin-left: 0.5rem\">ORG</span>\n",
              "</mark>\n",
              " in our daily lives, ethical concerns have emerged. Issues such as data privacy, algorithmic biases, and job displacement have sparked debates surrounding the responsible and fair use of \n",
              "<mark class=\"entity\" style=\"background: #7aecec; padding: 0.45em 0.6em; margin: 0 0.25em; line-height: 1; border-radius: 0.35em;\">\n",
              "    AI\n",
              "    <span style=\"font-size: 0.8em; font-weight: bold; line-height: 1; border-radius: 0.35em; vertical-align: middle; margin-left: 0.5rem\">ORG</span>\n",
              "</mark>\n",
              ". Ensuring transparency, accountability, and inclusivity in \n",
              "<mark class=\"entity\" style=\"background: #7aecec; padding: 0.45em 0.6em; margin: 0 0.25em; line-height: 1; border-radius: 0.35em;\">\n",
              "    AI\n",
              "    <span style=\"font-size: 0.8em; font-weight: bold; line-height: 1; border-radius: 0.35em; vertical-align: middle; margin-left: 0.5rem\">ORG</span>\n",
              "</mark>\n",
              " development and deployment becomes crucial to avoid perpetuating existing social inequalities. Additionally, the fear of \n",
              "<mark class=\"entity\" style=\"background: #7aecec; padding: 0.45em 0.6em; margin: 0 0.25em; line-height: 1; border-radius: 0.35em;\">\n",
              "    AI\n",
              "    <span style=\"font-size: 0.8em; font-weight: bold; line-height: 1; border-radius: 0.35em; vertical-align: middle; margin-left: 0.5rem\">ORG</span>\n",
              "</mark>\n",
              " replacing human jobs has led to calls for reskilling and upskilling the workforce to adapt to the changing job landscape. Despite these challenges, when ethically harnessed, \n",
              "<mark class=\"entity\" style=\"background: #7aecec; padding: 0.45em 0.6em; margin: 0 0.25em; line-height: 1; border-radius: 0.35em;\">\n",
              "    AI\n",
              "    <span style=\"font-size: 0.8em; font-weight: bold; line-height: 1; border-radius: 0.35em; vertical-align: middle; margin-left: 0.5rem\">ORG</span>\n",
              "</mark>\n",
              " holds the potential to address some of humanity's most pressing problems, from climate change to healthcare accessibility.</br></br>\n",
              "<mark class=\"entity\" style=\"background: #7aecec; padding: 0.45em 0.6em; margin: 0 0.25em; line-height: 1; border-radius: 0.35em;\">\n",
              "    AI\n",
              "    <span style=\"font-size: 0.8em; font-weight: bold; line-height: 1; border-radius: 0.35em; vertical-align: middle; margin-left: 0.5rem\">ORG</span>\n",
              "</mark>\n",
              " and Creativity</br>Beyond its utilitarian applications, \n",
              "<mark class=\"entity\" style=\"background: #7aecec; padding: 0.45em 0.6em; margin: 0 0.25em; line-height: 1; border-radius: 0.35em;\">\n",
              "    AI\n",
              "    <span style=\"font-size: 0.8em; font-weight: bold; line-height: 1; border-radius: 0.35em; vertical-align: middle; margin-left: 0.5rem\">ORG</span>\n",
              "</mark>\n",
              " has entered the realm of creativity. AI-generated art, music, and literature have become a testament to the creative potential of machine learning. Artists and musicians are collaborating with \n",
              "<mark class=\"entity\" style=\"background: #7aecec; padding: 0.45em 0.6em; margin: 0 0.25em; line-height: 1; border-radius: 0.35em;\">\n",
              "    AI\n",
              "    <span style=\"font-size: 0.8em; font-weight: bold; line-height: 1; border-radius: 0.35em; vertical-align: middle; margin-left: 0.5rem\">ORG</span>\n",
              "</mark>\n",
              " systems to explore new frontiers of artistic expression, producing works that blur the lines between human and machine creativity. While AI-generated content raises questions about the authenticity and ownership of artistic creations, it also sparks a broader conversation about the nature of creativity and the role of \n",
              "<mark class=\"entity\" style=\"background: #7aecec; padding: 0.45em 0.6em; margin: 0 0.25em; line-height: 1; border-radius: 0.35em;\">\n",
              "    AI\n",
              "    <span style=\"font-size: 0.8em; font-weight: bold; line-height: 1; border-radius: 0.35em; vertical-align: middle; margin-left: 0.5rem\">ORG</span>\n",
              "</mark>\n",
              " as a tool for human artists to amplify their imaginative capabilities.</br></br>\n",
              "<mark class=\"entity\" style=\"background: #f0d0ff; padding: 0.45em 0.6em; margin: 0 0.25em; line-height: 1; border-radius: 0.35em;\">\n",
              "    Looking Ahead\n",
              "As AI\n",
              "    <span style=\"font-size: 0.8em; font-weight: bold; line-height: 1; border-radius: 0.35em; vertical-align: middle; margin-left: 0.5rem\">WORK_OF_ART</span>\n",
              "</mark>\n",
              " continues to evolve, its future holds both exciting opportunities and formidable challenges. Researchers and developers are working tirelessly to create more robust, interpretable, and ethically aligned \n",
              "<mark class=\"entity\" style=\"background: #7aecec; padding: 0.45em 0.6em; margin: 0 0.25em; line-height: 1; border-radius: 0.35em;\">\n",
              "    AI\n",
              "    <span style=\"font-size: 0.8em; font-weight: bold; line-height: 1; border-radius: 0.35em; vertical-align: middle; margin-left: 0.5rem\">ORG</span>\n",
              "</mark>\n",
              " systems. Integrating \n",
              "<mark class=\"entity\" style=\"background: #7aecec; padding: 0.45em 0.6em; margin: 0 0.25em; line-height: 1; border-radius: 0.35em;\">\n",
              "    AI\n",
              "    <span style=\"font-size: 0.8em; font-weight: bold; line-height: 1; border-radius: 0.35em; vertical-align: middle; margin-left: 0.5rem\">ORG</span>\n",
              "</mark>\n",
              " into education and fostering \n",
              "<mark class=\"entity\" style=\"background: #7aecec; padding: 0.45em 0.6em; margin: 0 0.25em; line-height: 1; border-radius: 0.35em;\">\n",
              "    AI\n",
              "    <span style=\"font-size: 0.8em; font-weight: bold; line-height: 1; border-radius: 0.35em; vertical-align: middle; margin-left: 0.5rem\">ORG</span>\n",
              "</mark>\n",
              " literacy will be vital in preparing future generations for an AI-driven world. Policymakers and stakeholders must collaborate to establish regulations and frameworks that balance innovation with societal well-being. Embracing \n",
              "<mark class=\"entity\" style=\"background: #7aecec; padding: 0.45em 0.6em; margin: 0 0.25em; line-height: 1; border-radius: 0.35em;\">\n",
              "    AI\n",
              "    <span style=\"font-size: 0.8em; font-weight: bold; line-height: 1; border-radius: 0.35em; vertical-align: middle; margin-left: 0.5rem\">ORG</span>\n",
              "</mark>\n",
              " as a powerful tool while addressing its limitations and risks is essential to harness its full potential and ensure that \n",
              "<mark class=\"entity\" style=\"background: #7aecec; padding: 0.45em 0.6em; margin: 0 0.25em; line-height: 1; border-radius: 0.35em;\">\n",
              "    AI\n",
              "    <span style=\"font-size: 0.8em; font-weight: bold; line-height: 1; border-radius: 0.35em; vertical-align: middle; margin-left: 0.5rem\">ORG</span>\n",
              "</mark>\n",
              " remains a force for good in shaping the future of humanity. With responsible development and thoughtful implementation, \n",
              "<mark class=\"entity\" style=\"background: #7aecec; padding: 0.45em 0.6em; margin: 0 0.25em; line-height: 1; border-radius: 0.35em;\">\n",
              "    AI\n",
              "    <span style=\"font-size: 0.8em; font-weight: bold; line-height: 1; border-radius: 0.35em; vertical-align: middle; margin-left: 0.5rem\">ORG</span>\n",
              "</mark>\n",
              " can usher in a new era of possibilities, transforming the way we live, work, and relate to technology and each other.}</div></span>"
            ]
          },
          "metadata": {}
        }
      ]
    },
    {
      "cell_type": "code",
      "source": [],
      "metadata": {
        "id": "zXCnb6drxl1r"
      },
      "execution_count": null,
      "outputs": []
    }
  ]
}